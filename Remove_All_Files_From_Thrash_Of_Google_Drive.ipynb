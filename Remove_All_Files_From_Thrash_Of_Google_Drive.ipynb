{
  "nbformat": 4,
  "nbformat_minor": 0,
  "metadata": {
    "colab": {
      "name": "Remove All Files From Thrash Of Google Drive.ipynb",
      "provenance": [],
      "authorship_tag": "ABX9TyP579wVzAoI7BTxS8PTNS2B",
      "include_colab_link": true
    },
    "kernelspec": {
      "name": "python3",
      "display_name": "Python 3"
    },
    "language_info": {
      "name": "python"
    }
  },
  "cells": [
    {
      "cell_type": "markdown",
      "metadata": {
        "id": "view-in-github",
        "colab_type": "text"
      },
      "source": [
        "<a href=\"https://colab.research.google.com/github/mahidul5130/RandomProjects/blob/main/Remove_All_Files_From_Thrash_Of_Google_Drive.ipynb\" target=\"_parent\"><img src=\"https://colab.research.google.com/assets/colab-badge.svg\" alt=\"Open In Colab\"/></a>"
      ]
    },
    {
      "cell_type": "code",
      "source": [
        "from pydrive.auth import GoogleAuth\n",
        "from pydrive.drive import GoogleDrive\n",
        "from google.colab import auth\n",
        "from oauth2client.client import GoogleCredentials\n",
        "\n",
        "auth.authenticate_user()\n",
        "gauth = GoogleAuth()\n",
        "gauth.credentials = GoogleCredentials.get_application_default()\n",
        "my_drive = GoogleDrive(gauth)"
      ],
      "metadata": {
        "id": "9TvXwNJgEgcs"
      },
      "execution_count": null,
      "outputs": []
    },
    {
      "cell_type": "code",
      "source": [
        "from pydrive.files import ApiRequestError\n",
        "from requests.models import HTTPError\n",
        "import time\n",
        "from IPython.display import clear_output \n",
        "\n",
        "\n",
        "def RemoveFiles(): \n",
        "  count = 0\n",
        "  count_not_found = 0\n",
        "  filesize = 0\n",
        "\n",
        "  list = my_drive.ListFile({'q': \"trashed = true\"}).GetList()\n",
        "  Total_files = len(list)\n",
        "\n",
        "  for a_file in list:\n",
        "      # print the name of the file being deleted.\n",
        "      print()\n",
        "      count = count + 1\n",
        "      # clear_output()\n",
        "      print(f\"Progress: {count} of {Total_files} which is {(count/Total_files)*100} % \\t\\t\\t Total_Not_Fount: {count_not_found}\")\n",
        "      print(a_file['title'])\n",
        "      # delete the file permanently.\n",
        "      try:\n",
        "        a_file.Delete()\n",
        "        print(f\"Removed {filesize/(1024*1024)} MB\")\n",
        "        filesize = filesize + float(a_file['fileSize'])\n",
        "      except ApiRequestError:\n",
        "        print(\"Not Found\")\n",
        "        count_not_found = count_not_found+1 \n",
        "  if count_not_found != 0:\n",
        "    print(\"\\n\\n\\n\\n\\n\\nTry again Not_Found_Files\")\n",
        "    time.sleep(3) # Sleep for 3 seconds\n",
        "    RemoveFiles()\n",
        "\n",
        "\n",
        "RemoveFiles()"
      ],
      "metadata": {
        "id": "PjaDQTVxEjxD"
      },
      "execution_count": 56,
      "outputs": []
    }
  ]
}